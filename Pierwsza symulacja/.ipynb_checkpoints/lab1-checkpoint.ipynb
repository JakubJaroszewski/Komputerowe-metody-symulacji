{
 "cells": [
  {
   "cell_type": "code",
   "execution_count": 1,
   "id": "1d2b81ad-178a-44ad-89d3-3097f59dd131",
   "metadata": {},
   "outputs": [],
   "source": [
    "import matplotlib as plt\n",
    "from numba import njit\n",
    "import numpy as np\n",
    "import py3Dmol\n",
    "\n",
    "def read_data_from_file(file_path):\n",
    "    data = []\n",
    "    with open(file_path, 'r') as file:\n",
    "        for line in file:\n",
    "            value = float(line.strip())\n",
    "            data.append(value)\n",
    "    return data\n"
   ]
  },
  {
   "cell_type": "code",
   "execution_count": 6,
   "id": "4548ce53-34cf-42f4-88c5-3781341ad1b6",
   "metadata": {},
   "outputs": [],
   "source": [
    "data_array=[]\n",
    "data_array = read_data_from_file(\"./inputfile.txt\")\n",
    "n=data_array[0]\n",
    "N = n**3 #całkowita liczba atomów\n",
    "a=data_array[3]\n",
    "\n",
    "b_0 = np.array([a,0,0])\n",
    "b_1= np.array([a/2,a*np.sqrt(3)/2,0])\n",
    "b_2= np.array([a/2,a*np.sqrt(3)/6,a*np.sqrt(2/3)])\n",
    "\n",
    "r =[]\n",
    "for i1 in range(int(n)):\n",
    "    for i2 in range(int(n)):\n",
    "        for i3 in range(int(n)):\n",
    "             r.append((i1- (n-1)/2)*b_0 + (i2 - (n-1)/2)*b_1 + (i3 - (n-1)/2)*b_2)\n",
    "string_z_przerwami=[]\n",
    "for i in r:\n",
    "    string_z_przerwami.append(''.join(str(i)))\n",
    "string_z_nowymi_liniami = '\\n'.join(string_z_przerwami)\n",
    "const = 1"
   ]
  },
  {
   "cell_type": "code",
   "execution_count": 45,
   "id": "50abc569-ba35-4614-bce8-eb1d3a0b38d9",
   "metadata": {},
   "outputs": [],
   "source": [
    "import random\n",
    "random_number = random.random()\n",
    "E_kin_x = []\n",
    "E_kin_y = []\n",
    "E_kin_z = []\n",
    "for i in range(int(N)):\n",
    "    random_number_x = random.random()\n",
    "    random_number_y = random.random()\n",
    "    random_number_z = random.random()\n",
    "    E_kin_x.append(-const*np.log(random_number_x))\n",
    "    E_kin_y.append(-const*np.log(random_number_y))\n",
    "    E_kin_z.append(-const*np.log(random_number_z))\n",
    "m = data_array[1]\n",
    "P=0\n",
    "p_x=[]\n",
    "p_y=[]\n",
    "p_z=[]\n",
    "\n",
    "for i in range(int(N)):\n",
    "    a=random.choice([-1, 1])*np.sqrt(2*m*E_kin_x[i])\n",
    "    b=random.choice([-1, 1])*np.sqrt(2*m*E_kin_y[i])\n",
    "    c=random.choice([-1, 1])*np.sqrt(2*m*E_kin_z[i])\n",
    "    p=np.array([a,b,c])\n",
    "    p_x.append(a)\n",
    "    p_y.append(b)\n",
    "    p_z.append(c)\n",
    "    P+=p   \n",
    "P_divide=P/N\n",
    "for i in range(int(N)):\n",
    "    p_prim=p-P_divide"
   ]
  },
  {
   "cell_type": "code",
   "execution_count": 46,
   "id": "e19a6142-1cc5-4dbe-b11c-9a654ee4f701",
   "metadata": {},
   "outputs": [
    {
     "data": {
      "application/3dmoljs_load.v0": "<div id=\"3dmolviewer_16973156333315802\"  style=\"position: relative; width: 300px; height: 300px;\">\n        <p id=\"3dmolwarning_16973156333315802\" style=\"background-color:#ffcccc;color:black\">You appear to be running in JupyterLab (or JavaScript failed to load for some other reason).  You need to install the 3dmol extension: <br>\n        <tt>jupyter labextension install jupyterlab_3dmol</tt></p>\n        </div>\n<script>\n\nvar loadScriptAsync = function(uri){\n  return new Promise((resolve, reject) => {\n    //this is to ignore the existence of requirejs amd\n    var savedexports, savedmodule;\n    if (typeof exports !== 'undefined') savedexports = exports;\n    else exports = {}\n    if (typeof module !== 'undefined') savedmodule = module;\n    else module = {}\n\n    var tag = document.createElement('script');\n    tag.src = uri;\n    tag.async = true;\n    tag.onload = () => {\n        exports = savedexports;\n        module = savedmodule;\n        resolve();\n    };\n  var firstScriptTag = document.getElementsByTagName('script')[0];\n  firstScriptTag.parentNode.insertBefore(tag, firstScriptTag);\n});\n};\n\nif(typeof $3Dmolpromise === 'undefined') {\n$3Dmolpromise = null;\n  $3Dmolpromise = loadScriptAsync('https://cdnjs.cloudflare.com/ajax/libs/3Dmol/2.0.4/3Dmol-min.js');\n}\n\nvar viewer_16973156333315802 = null;\nvar warn = document.getElementById(\"3dmolwarning_16973156333315802\");\nif(warn) {\n    warn.parentNode.removeChild(warn);\n}\n$3Dmolpromise.then(function() {\nviewer_16973156333315802 = $3Dmol.createViewer(document.getElementById(\"3dmolviewer_16973156333315802\"),{backgroundColor:\"white\"});\nviewer_16973156333315802.zoomTo();\n\tviewer_16973156333315802.addModel(\"27 \\nargon\\n[-0.76      -0.4387862 -0.3102687]\\n[-0.57       -0.32908965  0.        ]\\n[-0.38      -0.2193931  0.3102687]\\n[-0.57       -0.10969655 -0.3102687 ]\\n[-0.38  0.    0.  ]\\n[-0.19        0.10969655  0.3102687 ]\\n[-0.38       0.2193931 -0.3102687]\\n[-0.19        0.32908965  0.        ]\\n[0.        0.4387862 0.3102687]\\n[-0.38      -0.4387862 -0.3102687]\\n[-0.19       -0.32908965  0.        ]\\n[ 0.        -0.2193931  0.3102687]\\n[-0.19       -0.10969655 -0.3102687 ]\\n[0. 0. 0.]\\n[0.19       0.10969655 0.3102687 ]\\n[ 0.         0.2193931 -0.3102687]\\n[0.19       0.32908965 0.        ]\\n[0.38      0.4387862 0.3102687]\\n[ 0.        -0.4387862 -0.3102687]\\n[ 0.19       -0.32908965  0.        ]\\n[ 0.38      -0.2193931  0.3102687]\\n[ 0.19       -0.10969655 -0.3102687 ]\\n[0.38 0.   0.  ]\\n[0.57       0.10969655 0.3102687 ]\\n[ 0.38       0.2193931 -0.3102687]\\n[0.57       0.32908965 0.        ]\\n[0.76      0.4387862 0.3102687]\");\n\tviewer_16973156333315802.setStyle({\"stick\": {}});\nviewer_16973156333315802.render();\n});\n</script>",
      "text/html": [
       "<div id=\"3dmolviewer_16973156333315802\"  style=\"position: relative; width: 300px; height: 300px;\">\n",
       "        <p id=\"3dmolwarning_16973156333315802\" style=\"background-color:#ffcccc;color:black\">You appear to be running in JupyterLab (or JavaScript failed to load for some other reason).  You need to install the 3dmol extension: <br>\n",
       "        <tt>jupyter labextension install jupyterlab_3dmol</tt></p>\n",
       "        </div>\n",
       "<script>\n",
       "\n",
       "var loadScriptAsync = function(uri){\n",
       "  return new Promise((resolve, reject) => {\n",
       "    //this is to ignore the existence of requirejs amd\n",
       "    var savedexports, savedmodule;\n",
       "    if (typeof exports !== 'undefined') savedexports = exports;\n",
       "    else exports = {}\n",
       "    if (typeof module !== 'undefined') savedmodule = module;\n",
       "    else module = {}\n",
       "\n",
       "    var tag = document.createElement('script');\n",
       "    tag.src = uri;\n",
       "    tag.async = true;\n",
       "    tag.onload = () => {\n",
       "        exports = savedexports;\n",
       "        module = savedmodule;\n",
       "        resolve();\n",
       "    };\n",
       "  var firstScriptTag = document.getElementsByTagName('script')[0];\n",
       "  firstScriptTag.parentNode.insertBefore(tag, firstScriptTag);\n",
       "});\n",
       "};\n",
       "\n",
       "if(typeof $3Dmolpromise === 'undefined') {\n",
       "$3Dmolpromise = null;\n",
       "  $3Dmolpromise = loadScriptAsync('https://cdnjs.cloudflare.com/ajax/libs/3Dmol/2.0.4/3Dmol-min.js');\n",
       "}\n",
       "\n",
       "var viewer_16973156333315802 = null;\n",
       "var warn = document.getElementById(\"3dmolwarning_16973156333315802\");\n",
       "if(warn) {\n",
       "    warn.parentNode.removeChild(warn);\n",
       "}\n",
       "$3Dmolpromise.then(function() {\n",
       "viewer_16973156333315802 = $3Dmol.createViewer(document.getElementById(\"3dmolviewer_16973156333315802\"),{backgroundColor:\"white\"});\n",
       "viewer_16973156333315802.zoomTo();\n",
       "\tviewer_16973156333315802.addModel(\"27 \\nargon\\n[-0.76      -0.4387862 -0.3102687]\\n[-0.57       -0.32908965  0.        ]\\n[-0.38      -0.2193931  0.3102687]\\n[-0.57       -0.10969655 -0.3102687 ]\\n[-0.38  0.    0.  ]\\n[-0.19        0.10969655  0.3102687 ]\\n[-0.38       0.2193931 -0.3102687]\\n[-0.19        0.32908965  0.        ]\\n[0.        0.4387862 0.3102687]\\n[-0.38      -0.4387862 -0.3102687]\\n[-0.19       -0.32908965  0.        ]\\n[ 0.        -0.2193931  0.3102687]\\n[-0.19       -0.10969655 -0.3102687 ]\\n[0. 0. 0.]\\n[0.19       0.10969655 0.3102687 ]\\n[ 0.         0.2193931 -0.3102687]\\n[0.19       0.32908965 0.        ]\\n[0.38      0.4387862 0.3102687]\\n[ 0.        -0.4387862 -0.3102687]\\n[ 0.19       -0.32908965  0.        ]\\n[ 0.38      -0.2193931  0.3102687]\\n[ 0.19       -0.10969655 -0.3102687 ]\\n[0.38 0.   0.  ]\\n[0.57       0.10969655 0.3102687 ]\\n[ 0.38       0.2193931 -0.3102687]\\n[0.57       0.32908965 0.        ]\\n[0.76      0.4387862 0.3102687]\");\n",
       "\tviewer_16973156333315802.setStyle({\"stick\": {}});\n",
       "viewer_16973156333315802.render();\n",
       "});\n",
       "</script>"
      ]
     },
     "metadata": {},
     "output_type": "display_data"
    }
   ],
   "source": [
    "viewer = py3Dmol.view(width=300, height=300)\n",
    "\n",
    "xyz_data =\"27 \\nargon\\n\"+string_z_nowymi_liniami\n",
    "viewer.addModel(xyz_data, format='xyz')\n",
    "viewer.setStyle({'stick': {}})\n",
    "viewer.show()\n"
   ]
  },
  {
   "cell_type": "code",
   "execution_count": 47,
   "id": "de6a90e0-9be4-4d5b-8bf8-2ebb4fd26a44",
   "metadata": {},
   "outputs": [
    {
     "data": {
      "text/plain": [
       "Text(0.5, 1.0, 'Histogram pędów')"
      ]
     },
     "execution_count": 47,
     "metadata": {},
     "output_type": "execute_result"
    },
    {
     "data": {
      "image/png": "[encoded data removed]",
      "text/plain": [
       "<Figure size 432x288 with 1 Axes>"
      ]
     },
     "metadata": {
      "needs_background": "light"
     },
     "output_type": "display_data"
    }
   ],
   "source": [
    "import matplotlib.pyplot as plt\n",
    "\n",
    "plt.hist(p_x+p_y+p_z, bins=25, alpha=0.7)\n",
    "plt.xlabel('Wartości')\n",
    "plt.ylabel('Liczba wystąpień')\n",
    "plt.title('Histogram pędów')"
   ]
  },
  {
   "cell_type": "code",
   "execution_count": null,
   "id": "603eb314-2670-412d-98c1-15b075babe5e",
   "metadata": {},
   "outputs": [],
   "source": []
  }
 ],
 "metadata": {
  "kernelspec": {
   "display_name": "Python 3 (ipykernel)",
   "language": "python",
   "name": "python3"
  },
  "language_info": {
   "codemirror_mode": {
    "name": "ipython",
    "version": 3
   },
   "file_extension": ".py",
   "mimetype": "text/x-python",
   "name": "python",
   "nbconvert_exporter": "python",
   "pygments_lexer": "ipython3",
   "version": "3.9.7"
  }
 },
 "nbformat": 4,
 "nbformat_minor": 5
}
